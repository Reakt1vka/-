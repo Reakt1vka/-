{
 "cells": [
  {
   "cell_type": "markdown",
   "id": "5302f485",
   "metadata": {},
   "source": [
    "## Метод решающего дерева и случайного леса\n",
    "\n",
    "### Лабораторная работа №5\n",
    "\n",
    "#### Задание 1\n",
    "Провести классификацию найденного датасета, методами решающего дерева и случайного леса . В формате Markdown написать пояснения. Объяснить почему были выбраны именно такие гиперпараметры, была ли перекрестная проверка, и т.д.\n",
    "\n",
    "### Метод решающего дерева:\n",
    "Гиперпараметры:\n",
    "   - max_depth: Максимальная глубина дерева. .\n",
    "   - min_samples_split: Минимальное количество выборок, необходимых для разделения внутреннего узла.\n",
    "   - min_samples_leaf: Минимальное количество выборок, необходимых для существования листового узла."
   ]
  },
  {
   "cell_type": "code",
   "execution_count": 2,
   "id": "ea2cc529",
   "metadata": {},
   "outputs": [
    {
     "name": "stdout",
     "output_type": "stream",
     "text": [
      "Лучшие параметры для решающего дерева: {'max_depth': 5, 'min_samples_leaf': 4, 'min_samples_split': 10}\n",
      "Точность решающего дерева на тестовом наборе: 0.782\n",
      "\n",
      "Отчет по классификации:\n",
      "              precision    recall  f1-score   support\n",
      "\n",
      "           0       0.79      0.97      0.87      1556\n",
      "           1       0.54      0.11      0.19       444\n",
      "\n",
      "    accuracy                           0.78      2000\n",
      "   macro avg       0.67      0.54      0.53      2000\n",
      "weighted avg       0.74      0.78      0.72      2000\n",
      "\n"
     ]
    }
   ],
   "source": [
    "import pandas as pd\n",
    "from sklearn.model_selection import train_test_split, GridSearchCV\n",
    "from sklearn.metrics import accuracy_score, classification_report\n",
    "from sklearn.tree import DecisionTreeClassifier\n",
    "from sklearn.ensemble import RandomForestClassifier\n",
    "from sklearn.preprocessing import StandardScaler, LabelEncoder\n",
    "from tqdm import tqdm\n",
    "\n",
    "# Загрузка датасета\n",
    "file_path = \"Electric_Vehicle_Population_Data.csv\"\n",
    "df = pd.read_csv(file_path)\n",
    "df.dropna(inplace=True)\n",
    "label_encoder = LabelEncoder()\n",
    "df['Electric Vehicle Type'] = label_encoder.fit_transform(df['Electric Vehicle Type'])\n",
    "df = df.sample(n=10000)\n",
    "\n",
    "# Разделение на признаки (X) и целевую переменную (y)\n",
    "X = df[['Postal Code', 'Model Year']]\n",
    "y = df['Electric Vehicle Type']\n",
    "# Разделение данных на тренировочный и тестовый наборы\n",
    "# random_state=42 - гарантирует, что данные каждый раз будут одинакого разбиваться\n",
    "X_train, X_test, y_train, y_test = train_test_split(X, y, test_size=0.2, random_state=42)\n",
    "\n",
    "# Масштабирование признаков (нормализация)\n",
    "scaler = StandardScaler()\n",
    "X_train_scaled = scaler.fit_transform(X_train)\n",
    "X_test_scaled = scaler.transform(X_test)\n",
    "\n",
    "param_grid_tree = {\n",
    "    'max_depth': [None, 5, 10, 15],\n",
    "    'min_samples_split': [2, 5, 10],\n",
    "    'min_samples_leaf': [1, 2, 4]\n",
    "}\n",
    "# Создание модели решающего дерева\n",
    "decision_tree = DecisionTreeClassifier()\n",
    "\n",
    "# Поиск лучших параметров для решающего дерева\n",
    "grid_search_tree = GridSearchCV(decision_tree, param_grid_tree, refit=True, verbose=0, cv=5)\n",
    "grid_search_tree.fit(X_train_scaled, y_train)\n",
    "\n",
    "# Лучшие параметры для решающего дерева\n",
    "best_params_tree = grid_search_tree.best_params_\n",
    "best_score_tree = grid_search_tree.best_score_\n",
    "\n",
    "best_tree = DecisionTreeClassifier(**best_params_tree)\n",
    "best_tree.fit(X_train_scaled, y_train)\n",
    "accuracy_tree = best_tree.score(X_test_scaled, y_test)\n",
    "print(\"Лучшие параметры для решающего дерева:\", best_params_tree)\n",
    "print(\"Точность решающего дерева на тестовом наборе:\", accuracy_tree)\n",
    "\n",
    "predictions = best_tree.predict(X_test_scaled)\n",
    "\n",
    "# Отчет по классификации\n",
    "print(\"\\nОтчет по классификации:\")\n",
    "print(classification_report(y_test, predictions))"
   ]
  },
  {
   "cell_type": "markdown",
   "id": "2aa4da38",
   "metadata": {},
   "source": [
    "## Метод случаного леса:"
   ]
  },
  {
   "cell_type": "markdown",
   "id": "a8548ae2",
   "metadata": {},
   "source": [
    "Гиперпараметры:\n",
    "   - n_estimators: Количество деревьев в лесу.\n",
    "   - max_depth: Максимальная глубина каждого дерева в лесу.\n",
    "   - min_samples_split: Минимальное количество выборок, необходимых для разделения внутреннего узла дерева.\n",
    "   - min_samples_leaf: Минимальное количество выборок, необходимых для существования листового узла."
   ]
  },
  {
   "cell_type": "code",
   "execution_count": 3,
   "id": "64dc4714",
   "metadata": {},
   "outputs": [
    {
     "name": "stdout",
     "output_type": "stream",
     "text": [
      "Лучшие параметры для случайного леса: {'max_depth': 5, 'min_samples_leaf': 4, 'min_samples_split': 5, 'n_estimators': 5}\n",
      "Точность случайного леса на тестовом наборе: 0.7805\n",
      "\n",
      "Отчет по классификации:\n",
      "              precision    recall  f1-score   support\n",
      "\n",
      "           0       0.78      0.99      0.88      1556\n",
      "           1       0.59      0.04      0.07       444\n",
      "\n",
      "    accuracy                           0.78      2000\n",
      "   macro avg       0.68      0.52      0.47      2000\n",
      "weighted avg       0.74      0.78      0.70      2000\n",
      "\n"
     ]
    }
   ],
   "source": [
    "# Определение параметров для случайного леса\n",
    "# Указал маленькие значения для ускорения обучения\n",
    "param_grid_forest = {\n",
    "    'n_estimators': range(2, 10),\n",
    "    'max_depth': [None, 5, 10, 15],\n",
    "    'min_samples_split': [2, 5],\n",
    "    'min_samples_leaf': [1, 2, 4]\n",
    "}\n",
    "# Создание модели случайного леса\n",
    "random_forest = RandomForestClassifier()\n",
    "\n",
    "# Поиск лучших параметров для случайного леса\n",
    "grid_search_forest = GridSearchCV(random_forest, param_grid_forest, refit=True, verbose=0, cv=5)\n",
    "grid_search_forest.fit(X_train_scaled, y_train)\n",
    "\n",
    "# Лучшие параметры для случайного леса\n",
    "best_params_forest = grid_search_forest.best_params_\n",
    "best_score_forest = grid_search_forest.best_score_\n",
    "best_forest = RandomForestClassifier(**best_params_forest)\n",
    "best_forest.fit(X_train_scaled, y_train)\n",
    "accuracy_forest = best_forest.score(X_test_scaled, y_test)\n",
    "print(\"Лучшие параметры для случайного леса:\", best_params_forest)\n",
    "print(\"Точность случайного леса на тестовом наборе:\", accuracy_forest)\n",
    "\n",
    "predictions = best_forest.predict(X_test_scaled)\n",
    "\n",
    "# Отчет по классификации\n",
    "print(\"\\nОтчет по классификации:\")\n",
    "print(classification_report(y_test, predictions))"
   ]
  },
  {
   "cell_type": "code",
   "execution_count": null,
   "id": "93c89236",
   "metadata": {},
   "outputs": [],
   "source": []
  }
 ],
 "metadata": {
  "kernelspec": {
   "display_name": "Python 3 (ipykernel)",
   "language": "python",
   "name": "python3"
  },
  "language_info": {
   "codemirror_mode": {
    "name": "ipython",
    "version": 3
   },
   "file_extension": ".py",
   "mimetype": "text/x-python",
   "name": "python",
   "nbconvert_exporter": "python",
   "pygments_lexer": "ipython3",
   "version": "3.10.12"
  }
 },
 "nbformat": 4,
 "nbformat_minor": 5
}
