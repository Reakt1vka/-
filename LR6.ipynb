{
 "cells": [
  {
   "cell_type": "markdown",
   "id": "ba968a2b",
   "metadata": {},
   "source": [
    "## Метод CatBoost\n",
    "\n",
    "### Лабораторная работа №6\n",
    "\n",
    "#### Задание 1\n",
    "Провести классификацию найденного датасета, методами CatBoost . В формате Markdown написать пояснения. Объяснить почему были выбраны именно такие гиперпараметры, была ли перекрестная проверка, и т.д.\n",
    "\n",
    "Гиперпараметры:\n",
    "   - depth: Этот параметр определяет глубину дерева.\n",
    "   - learning_rate: Определяет скорость обучения модели.\n",
    "   - l2_leaf_reg: Этот параметр отвечает за коэффициент регуляризации L2 (Ridge)."
   ]
  },
  {
   "cell_type": "code",
   "execution_count": 1,
   "id": "eb12f5c7",
   "metadata": {
    "scrolled": true
   },
   "outputs": [
    {
     "name": "stdout",
     "output_type": "stream",
     "text": [
      "Лучшие параметры для CatBoost: {'depth': 3, 'iterations': 200, 'l2_leaf_reg': 1, 'learning_rate': 0.1, 'loss_function': 'Logloss'}\n",
      "Лучший результат (точность) для CatBoost: 0.7897777777777778\n",
      "Точность на тестовом наборе данных: 0.778\n",
      "\n",
      "Отчет по классификации:\n",
      "              precision    recall  f1-score   support\n",
      "\n",
      "           0       0.79      0.97      0.87       760\n",
      "           1       0.66      0.16      0.26       240\n",
      "\n",
      "    accuracy                           0.78      1000\n",
      "   macro avg       0.72      0.57      0.56      1000\n",
      "weighted avg       0.75      0.78      0.72      1000\n",
      "\n"
     ]
    }
   ],
   "source": [
    "import pandas as pd\n",
    "from sklearn.model_selection import train_test_split\n",
    "from sklearn.preprocessing import StandardScaler, LabelEncoder\n",
    "from catboost import CatBoostClassifier\n",
    "from sklearn.model_selection import GridSearchCV\n",
    "from sklearn.metrics import accuracy_score, classification_report\n",
    "from tqdm import tqdm\n",
    "\n",
    "# Загрузка датасета\n",
    "file_path = \"Electric_Vehicle_Population_Data.csv\"\n",
    "df = pd.read_csv(file_path)\n",
    "df.dropna(inplace=True)\n",
    "label_encoder = LabelEncoder()\n",
    "df['Electric Vehicle Type'] = label_encoder.fit_transform(df['Electric Vehicle Type'])\n",
    "df = df.sample(n=10000)\n",
    "\n",
    "# Разделение на признаки (X) и целевую переменную (y)\n",
    "X = df[['Postal Code', 'Model Year']]\n",
    "y = df['Electric Vehicle Type']\n",
    "\n",
    "# Разделение данных на тренировочный и тестовый наборы\n",
    "X_train, X_test, y_train, y_test = train_test_split(X, y, test_size=0.1, random_state=42)\n",
    "\n",
    "# Масштабирование признаков (нормализация)\n",
    "scaler = StandardScaler()\n",
    "X_train_scaled = scaler.fit_transform(X_train)\n",
    "X_test_scaled = scaler.transform(X_test)\n",
    "# Определение параметров для CatBoost\n",
    "param_grid_catboost = {\n",
    "    'depth': [1, 4, 7, 10],\n",
    "    'learning_rate': [0.01, 0.1, 1],\n",
    "    'l2_leaf_reg': [1, 3, 5, 9],\n",
    "    'iterations': [100, 200,],\n",
    "    'depth': [0, 3, 6],\n",
    "    'loss_function': ['MultiClass', 'Logloss']\n",
    "}\n",
    "\n",
    "# Создание модели CatBoost\n",
    "catboost = CatBoostClassifier(verbose=0)\n",
    "\n",
    "# Подбор оптимальных параметров с помощью перекрестной проверки для CatBoost\n",
    "grid_search_catboost = GridSearchCV(catboost, param_grid_catboost, refit=True, verbose=0, cv=5)\n",
    "grid_search_catboost.fit(X_train_scaled, y_train)\n",
    "\n",
    "# Получение лучших параметров для CatBoost\n",
    "best_params_catboost = grid_search_catboost.best_params_\n",
    "best_score_catboost = grid_search_catboost.best_score_\n",
    "test_score = grid_search_catboost.score(X_test_scaled, y_test)\n",
    "print(\"Лучшие параметры для CatBoost:\", best_params_catboost)\n",
    "print(\"Лучший результат (точность) для CatBoost:\", best_score_catboost)\n",
    "print(\"Точность на тестовом наборе данных:\", test_score)\n",
    "\n",
    "best_model = grid_search_catboost.best_estimator_\n",
    "predictions = best_model.predict(X_test_scaled)\n",
    "\n",
    "# Отчет по классификации\n",
    "print(\"\\nОтчет по классификации:\")\n",
    "print(classification_report(y_test, predictions))"
   ]
  },
  {
   "cell_type": "code",
   "execution_count": null,
   "id": "1390a21a",
   "metadata": {},
   "outputs": [],
   "source": []
  }
 ],
 "metadata": {
  "kernelspec": {
   "display_name": "Python 3 (ipykernel)",
   "language": "python",
   "name": "python3"
  },
  "language_info": {
   "codemirror_mode": {
    "name": "ipython",
    "version": 3
   },
   "file_extension": ".py",
   "mimetype": "text/x-python",
   "name": "python",
   "nbconvert_exporter": "python",
   "pygments_lexer": "ipython3",
   "version": "3.10.12"
  }
 },
 "nbformat": 4,
 "nbformat_minor": 5
}
